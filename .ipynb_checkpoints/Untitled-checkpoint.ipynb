{
 "cells": [
  {
   "cell_type": "code",
   "execution_count": 1,
   "id": "0cbeb9e5",
   "metadata": {},
   "outputs": [],
   "source": [
    "import pandas as pd\n",
    "import numpy as np\n",
    "import matplotlib.pyplot as plt\n",
    "import seaborn as sns"
   ]
  },
  {
   "cell_type": "code",
   "execution_count": 6,
   "id": "e3f493e9",
   "metadata": {},
   "outputs": [
    {
     "data": {
      "text/html": [
       "<div>\n",
       "<style scoped>\n",
       "    .dataframe tbody tr th:only-of-type {\n",
       "        vertical-align: middle;\n",
       "    }\n",
       "\n",
       "    .dataframe tbody tr th {\n",
       "        vertical-align: top;\n",
       "    }\n",
       "\n",
       "    .dataframe thead th {\n",
       "        text-align: right;\n",
       "    }\n",
       "</style>\n",
       "<table border=\"1\" class=\"dataframe\">\n",
       "  <thead>\n",
       "    <tr style=\"text-align: right;\">\n",
       "      <th></th>\n",
       "      <th>area</th>\n",
       "      <th>region</th>\n",
       "      <th>const</th>\n",
       "      <th>ConShare</th>\n",
       "      <th>LabShare</th>\n",
       "      <th>LibDemShare</th>\n",
       "      <th>GreenShare</th>\n",
       "      <th>ReformShare</th>\n",
       "      <th>PlaidShare</th>\n",
       "      <th>SNPShare</th>\n",
       "      <th>OthersShare</th>\n",
       "      <th>WinnerGE2024</th>\n",
       "      <th>SecondGE2024</th>\n",
       "      <th>YouGovCall</th>\n",
       "      <th>Winner margin</th>\n",
       "      <th>2019 v 2024 status</th>\n",
       "      <th>Win19 (nominal)</th>\n",
       "      <th>constituency_type</th>\n",
       "    </tr>\n",
       "  </thead>\n",
       "  <tbody>\n",
       "    <tr>\n",
       "      <th>0</th>\n",
       "      <td>Aldridge-Brownhills</td>\n",
       "      <td>West Midlands</td>\n",
       "      <td>E14001064</td>\n",
       "      <td>0.39</td>\n",
       "      <td>0.32</td>\n",
       "      <td>0.05</td>\n",
       "      <td>0.04</td>\n",
       "      <td>0.19</td>\n",
       "      <td>0.0</td>\n",
       "      <td>0.0</td>\n",
       "      <td>0.0</td>\n",
       "      <td>Conservatives</td>\n",
       "      <td>Labour</td>\n",
       "      <td>Lean Conservatives</td>\n",
       "      <td>0.07</td>\n",
       "      <td>Conservative hold</td>\n",
       "      <td>Con</td>\n",
       "      <td>Borough</td>\n",
       "    </tr>\n",
       "  </tbody>\n",
       "</table>\n",
       "</div>"
      ],
      "text/plain": [
       "                  area         region      const  ConShare  LabShare  \\\n",
       "0  Aldridge-Brownhills  West Midlands  E14001064      0.39      0.32   \n",
       "\n",
       "   LibDemShare  GreenShare  ReformShare  PlaidShare  SNPShare  OthersShare  \\\n",
       "0         0.05        0.04         0.19         0.0       0.0          0.0   \n",
       "\n",
       "    WinnerGE2024 SecondGE2024          YouGovCall  Winner margin  \\\n",
       "0  Conservatives       Labour  Lean Conservatives           0.07   \n",
       "\n",
       "  2019 v 2024 status Win19 (nominal) constituency_type  \n",
       "0  Conservative hold             Con           Borough  "
      ]
     },
     "execution_count": 6,
     "metadata": {},
     "output_type": "execute_result"
    }
   ],
   "source": [
    "file_path = 'Data/YouGov_2024_general_election_MRP_2.xlsx'\n",
    "\n",
    "\n",
    "df = pd.read_excel(file_path)\n",
    "df.head(1)"
   ]
  },
  {
   "cell_type": "code",
   "execution_count": 8,
   "id": "7a22b11a",
   "metadata": {},
   "outputs": [
    {
     "name": "stdout",
     "output_type": "stream",
     "text": [
      "<class 'pandas.core.frame.DataFrame'>\n",
      "RangeIndex: 631 entries, 0 to 630\n",
      "Data columns (total 18 columns):\n",
      " #   Column              Non-Null Count  Dtype  \n",
      "---  ------              --------------  -----  \n",
      " 0   area                631 non-null    object \n",
      " 1   region              631 non-null    object \n",
      " 2   const               631 non-null    object \n",
      " 3   ConShare            631 non-null    float64\n",
      " 4   LabShare            631 non-null    float64\n",
      " 5   LibDemShare         631 non-null    float64\n",
      " 6   GreenShare          631 non-null    float64\n",
      " 7   ReformShare         631 non-null    float64\n",
      " 8   PlaidShare          631 non-null    float64\n",
      " 9   SNPShare            631 non-null    float64\n",
      " 10  OthersShare         631 non-null    float64\n",
      " 11  WinnerGE2024        631 non-null    object \n",
      " 12  SecondGE2024        631 non-null    object \n",
      " 13  YouGovCall          631 non-null    object \n",
      " 14  Winner margin       631 non-null    float64\n",
      " 15  2019 v 2024 status  631 non-null    object \n",
      " 16  Win19 (nominal)     631 non-null    object \n",
      " 17  constituency_type   631 non-null    object \n",
      "dtypes: float64(9), object(9)\n",
      "memory usage: 88.9+ KB\n"
     ]
    }
   ],
   "source": [
    "df.info()\n"
   ]
  },
  {
   "cell_type": "code",
   "execution_count": 11,
   "id": "a7167be2",
   "metadata": {},
   "outputs": [
    {
     "data": {
      "text/plain": [
       "area                  0\n",
       "region                0\n",
       "const                 0\n",
       "ConShare              0\n",
       "LabShare              0\n",
       "LibDemShare           0\n",
       "GreenShare            0\n",
       "ReformShare           0\n",
       "PlaidShare            0\n",
       "SNPShare              0\n",
       "OthersShare           0\n",
       "WinnerGE2024          0\n",
       "SecondGE2024          0\n",
       "YouGovCall            0\n",
       "Winner margin         0\n",
       "2019 v 2024 status    0\n",
       "Win19 (nominal)       0\n",
       "constituency_type     0\n",
       "dtype: int64"
      ]
     },
     "execution_count": 11,
     "metadata": {},
     "output_type": "execute_result"
    }
   ],
   "source": [
    "df.isnull().sum()"
   ]
  },
  {
   "cell_type": "code",
   "execution_count": 15,
   "id": "516d6cec",
   "metadata": {},
   "outputs": [
    {
     "name": "stdout",
     "output_type": "stream",
     "text": [
      "Duplicates: 0\n"
     ]
    }
   ],
   "source": [
    "duplicates = df.duplicated()\n",
    "print(f'Duplicates: {duplicates.sum()}')"
   ]
  },
  {
   "cell_type": "code",
   "execution_count": null,
   "id": "9b66b15d",
   "metadata": {},
   "outputs": [],
   "source": []
  }
 ],
 "metadata": {
  "kernelspec": {
   "display_name": "Python 3 (ipykernel)",
   "language": "python",
   "name": "python3"
  },
  "language_info": {
   "codemirror_mode": {
    "name": "ipython",
    "version": 3
   },
   "file_extension": ".py",
   "mimetype": "text/x-python",
   "name": "python",
   "nbconvert_exporter": "python",
   "pygments_lexer": "ipython3",
   "version": "3.11.5"
  }
 },
 "nbformat": 4,
 "nbformat_minor": 5
}
